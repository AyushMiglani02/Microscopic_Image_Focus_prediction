{
  "cells": [
    {
      "cell_type": "markdown",
      "metadata": {},
      "source": [
        "# Microscope Focus Quality Assessment\n",
        "\n",
        "This notebook implements a deep learning model to assess the focus quality of microscope images.\n",
        "\n",
        "## Task Overview\n",
        "- Build a model that estimates focus quality of a single microscope image\n",
        "- The model will serve as a \"focus-picker\" that identifies the best focal plane\n",
        "- Final model must be exported in TFLite format\n"
      ]
    },
    {
      "cell_type": "code",
      "execution_count": null,
      "metadata": {},
      "outputs": [],
      "source": [
        "# Import necessary libraries\n",
        "import os\n",
        "import numpy as np\n",
        "import pandas as pd\n",
        "import matplotlib.pyplot as plt\n",
        "import cv2\n",
        "from tqdm import tqdm\n",
        "import random\n",
        "from sklearn.model_selection import train_test_split\n",
        "import tensorflow as tf\n",
        "from tensorflow.keras.models import Model\n",
        "from tensorflow.keras.layers import Dense, GlobalAveragePooling2D, Input\n",
        "from tensorflow.keras.applications import MobileNetV2\n",
        "from tensorflow.keras.callbacks import EarlyStopping, ReduceLROnPlateau\n",
        "from sklearn.metrics import mean_absolute_error, mean_squared_error\n",
        "from scipy.stats import pearsonr\n",
        "\n",
        "# Set random seeds for reproducibility\n",
        "SEED = 42\n",
        "np.random.seed(SEED)\n",
        "tf.random.set_seed(SEED)\n",
        "random.seed(SEED)\n"
      ]
    },
    {
      "cell_type": "markdown",
      "metadata": {},
      "source": [
        "## 1. Data Exploration\n"
      ]
    },
    {
      "cell_type": "code",
      "execution_count": null,
      "metadata": {},
      "outputs": [],
      "source": [
        "# Load the labels CSV file\n",
        "labels_df = pd.read_csv('Adsys_ software_assignment/focus_labels.csv')\n",
        "print(f\"Total number of images: {len(labels_df)}\")\n",
        "labels_df.head()\n"
      ]
    },
    {
      "cell_type": "code",
      "execution_count": null,
      "metadata": {},
      "outputs": [],
      "source": [
        "# Extract stack names and analyze distribution\n",
        "labels_df['stack_name'] = labels_df['image_path'].apply(lambda x: os.path.dirname(x).split('/')[-1])\n",
        "print(f\"Number of unique stacks: {labels_df['stack_name'].nunique()}\")\n",
        "\n",
        "# Count images per stack\n",
        "stack_counts = labels_df['stack_name'].value_counts()\n",
        "print(f\"Average images per stack: {stack_counts.mean():.2f}\")\n",
        "print(f\"Min images per stack: {stack_counts.min()}\")\n",
        "print(f\"Max images per stack: {stack_counts.max()}\")\n"
      ]
    },
    {
      "cell_type": "code",
      "execution_count": null,
      "metadata": {},
      "outputs": [],
      "source": [
        "# Visualize focus score distribution\n",
        "plt.figure(figsize=(10, 6))\n",
        "plt.hist(labels_df['focus_score'], bins=30)\n",
        "plt.title('Distribution of Focus Scores')\n",
        "plt.xlabel('Focus Score')\n",
        "plt.ylabel('Count')\n",
        "plt.grid(alpha=0.3)\n",
        "plt.show()\n"
      ]
    },
    {
      "cell_type": "code",
      "execution_count": null,
      "metadata": {},
      "outputs": [],
      "source": [
        "# Function to visualize a single stack of images\n",
        "def visualize_stack(stack_name, base_path='Adsys_ software_assignment'):\n",
        "    stack_df = labels_df[labels_df['stack_name'] == stack_name].sort_values('focus_score')\n",
        "    n_images = len(stack_df)\n",
        "    \n",
        "    fig, axes = plt.subplots(1, n_images, figsize=(n_images*4, 4))\n",
        "    \n",
        "    for i, (_, row) in enumerate(stack_df.iterrows()):\n",
        "        img_path = os.path.join(base_path, row['image_path'].lstrip('./'))\n",
        "        img = cv2.imread(img_path)\n",
        "        img = cv2.cvtColor(img, cv2.COLOR_BGR2RGB)\n",
        "        \n",
        "        axes[i].imshow(img)\n",
        "        axes[i].set_title(f\"Focus Score: {row['focus_score']}\")\n",
        "        axes[i].axis('off')\n",
        "    \n",
        "    plt.tight_layout()\n",
        "    plt.show()\n",
        "\n",
        "# Visualize a few random stacks\n",
        "random_stacks = random.sample(list(labels_df['stack_name'].unique()), 3)\n",
        "for stack in random_stacks:\n",
        "    print(f\"Stack: {stack}\")\n",
        "    visualize_stack(stack)\n"
      ]
    },
    {
      "cell_type": "markdown",
      "metadata": {},
      "source": [
        "## 2. Data Preparation\n"
      ]
    },
    {
      "cell_type": "code",
      "execution_count": null,
      "metadata": {},
      "outputs": [],
      "source": [
        "# Split data by stacks into train/val/test sets\n",
        "unique_stacks = labels_df['stack_name'].unique()\n",
        "train_stacks, temp_stacks = train_test_split(unique_stacks, test_size=0.3, random_state=SEED)\n",
        "val_stacks, test_stacks = train_test_split(temp_stacks, test_size=0.5, random_state=SEED)\n",
        "\n",
        "print(f\"Number of training stacks: {len(train_stacks)}\")\n",
        "print(f\"Number of validation stacks: {len(val_stacks)}\")\n",
        "print(f\"Number of test stacks: {len(test_stacks)}\")\n",
        "\n",
        "# Create dataframes for each set\n",
        "train_df = labels_df[labels_df['stack_name'].isin(train_stacks)]\n",
        "val_df = labels_df[labels_df['stack_name'].isin(val_stacks)]\n",
        "test_df = labels_df[labels_df['stack_name'].isin(test_stacks)]\n",
        "\n",
        "print(f\"Training images: {len(train_df)}\")\n",
        "print(f\"Validation images: {len(val_df)}\")\n",
        "print(f\"Test images: {len(test_df)}\")\n"
      ]
    },
    {
      "cell_type": "code",
      "execution_count": null,
      "metadata": {},
      "outputs": [],
      "source": [
        "# Image preprocessing function\n",
        "def preprocess_image(img_path, target_size=(224, 224)):\n",
        "    # Load image\n",
        "    img = cv2.imread(img_path)\n",
        "    img = cv2.cvtColor(img, cv2.COLOR_BGR2RGB)\n",
        "    \n",
        "    # Resize\n",
        "    img = cv2.resize(img, target_size)\n",
        "    \n",
        "    # Normalize to [0, 1]\n",
        "    img = img.astype(np.float32) / 255.0\n",
        "    \n",
        "    return img\n"
      ]
    },
    {
      "cell_type": "code",
      "execution_count": null,
      "metadata": {},
      "outputs": [],
      "source": [
        "# TF Data pipeline\n",
        "def create_dataset(dataframe, base_path='Adsys_ software_assignment', batch_size=32, augment=False):\n",
        "    def _parse_function(img_path, label):\n",
        "        img_path = tf.strings.join([base_path, tf.strings.substr(img_path, 1, -1)])\n",
        "        img = tf.io.read_file(img_path)\n",
        "        img = tf.image.decode_jpeg(img, channels=3)\n",
        "        img = tf.image.resize(img, [224, 224])\n",
        "        img = tf.cast(img, tf.float32) / 255.0\n",
        "        return img, label\n",
        "    \n",
        "    def _augment(img, label):\n",
        "        img = tf.image.random_flip_left_right(img)\n",
        "        img = tf.image.random_flip_up_down(img)\n",
        "        img = tf.image.random_brightness(img, 0.1)\n",
        "        img = tf.image.random_contrast(img, 0.9, 1.1)\n",
        "        # Don't apply blurring since we're learning to detect focus\n",
        "        return img, label\n",
        "    \n",
        "    paths = dataframe['image_path'].values\n",
        "    labels = dataframe['focus_score'].values\n",
        "    \n",
        "    dataset = tf.data.Dataset.from_tensor_slices((paths, labels))\n",
        "    dataset = dataset.map(_parse_function, num_parallel_calls=tf.data.AUTOTUNE)\n",
        "    \n",
        "    if augment:\n",
        "        dataset = dataset.map(_augment, num_parallel_calls=tf.data.AUTOTUNE)\n",
        "    \n",
        "    dataset = dataset.batch(batch_size)\n",
        "    dataset = dataset.prefetch(tf.data.AUTOTUNE)\n",
        "    \n",
        "    return dataset\n"
      ]
    },
    {
      "cell_type": "code",
      "execution_count": null,
      "metadata": {},
      "outputs": [],
      "source": [
        "# Create datasets\n",
        "BATCH_SIZE = 32\n",
        "\n",
        "train_dataset = create_dataset(train_df, batch_size=BATCH_SIZE, augment=True)\n",
        "val_dataset = create_dataset(val_df, batch_size=BATCH_SIZE)\n",
        "test_dataset = create_dataset(test_df, batch_size=BATCH_SIZE)\n"
      ]
    },
    {
      "cell_type": "markdown",
      "metadata": {},
      "source": [
        "## 3. Model Development\n"
      ]
    },
    {
      "cell_type": "code",
      "execution_count": null,
      "metadata": {},
      "outputs": [],
      "source": [
        "# Create MobileNetV2 model with regression head\n",
        "def create_model(input_shape=(224, 224, 3)):\n",
        "    # Base model\n",
        "    base_model = MobileNetV2(\n",
        "        input_shape=input_shape,\n",
        "        include_top=False,\n",
        "        weights='imagenet'\n",
        "    )\n",
        "    \n",
        "    # Freeze the base model layers\n",
        "    for layer in base_model.layers:\n",
        "        layer.trainable = False\n",
        "    \n",
        "    # Create the model\n",
        "    inputs = Input(shape=input_shape)\n",
        "    x = base_model(inputs, training=False)\n",
        "    x = GlobalAveragePooling2D()(x)\n",
        "    x = Dense(128, activation='relu')(x)\n",
        "    outputs = Dense(1, activation='linear')(x)  # Regression output\n",
        "    \n",
        "    model = Model(inputs, outputs)\n",
        "    \n",
        "    # Compile the model\n",
        "    model.compile(\n",
        "        optimizer='adam',\n",
        "        loss='mean_absolute_error',\n",
        "        metrics=['mae', 'mse']\n",
        "    )\n",
        "    \n",
        "    return model\n"
      ]
    },
    {
      "cell_type": "code",
      "execution_count": null,
      "metadata": {},
      "outputs": [],
      "source": [
        "# Create and display the model\n",
        "model = create_model()\n",
        "model.summary()\n"
      ]
    },
    {
      "cell_type": "code",
      "execution_count": null,
      "metadata": {},
      "outputs": [],
      "source": [
        "# Define callbacks\n",
        "callbacks = [\n",
        "    EarlyStopping(patience=10, restore_best_weights=True),\n",
        "    ReduceLROnPlateau(factor=0.2, patience=5, min_lr=1e-6)\n",
        "]\n"
      ]
    },
    {
      "cell_type": "code",
      "execution_count": null,
      "metadata": {},
      "outputs": [],
      "source": [
        "# Train the model\n",
        "history = model.fit(\n",
        "    train_dataset,\n",
        "    validation_data=val_dataset,\n",
        "    epochs=50,\n",
        "    callbacks=callbacks\n",
        ")\n"
      ]
    },
    {
      "cell_type": "code",
      "execution_count": null,
      "metadata": {},
      "outputs": [],
      "source": [
        "# Plot training history\n",
        "plt.figure(figsize=(12, 4))\n",
        "\n",
        "plt.subplot(1, 2, 1)\n",
        "plt.plot(history.history['loss'])\n",
        "plt.plot(history.history['val_loss'])\n",
        "plt.title('Model Loss')\n",
        "plt.ylabel('Loss')\n",
        "plt.xlabel('Epoch')\n",
        "plt.legend(['Train', 'Validation'], loc='upper right')\n",
        "\n",
        "plt.subplot(1, 2, 2)\n",
        "plt.plot(history.history['mae'])\n",
        "plt.plot(history.history['val_mae'])\n",
        "plt.title('Model MAE')\n",
        "plt.ylabel('MAE')\n",
        "plt.xlabel('Epoch')\n",
        "plt.legend(['Train', 'Validation'], loc='upper right')\n",
        "\n",
        "plt.tight_layout()\n",
        "plt.savefig('training_curves.png', dpi=300)\n",
        "plt.show()\n"
      ]
    },
    {
      "cell_type": "code",
      "execution_count": null,
      "metadata": {},
      "outputs": [],
      "source": [
        "# Fine-tune the model\n",
        "# Unfreeze the top layers of the base model\n",
        "for layer in model.layers[1].layers[-30:]:  # Unfreeze the last 30 layers\n",
        "    layer.trainable = True\n",
        "\n",
        "# Recompile with a lower learning rate\n",
        "model.compile(\n",
        "    optimizer=tf.keras.optimizers.Adam(1e-4),\n",
        "    loss='mean_absolute_error',\n",
        "    metrics=['mae', 'mse']\n",
        ")\n",
        "\n",
        "# Fine-tune\n",
        "fine_tune_history = model.fit(\n",
        "    train_dataset,\n",
        "    validation_data=val_dataset,\n",
        "    epochs=20,\n",
        "    callbacks=callbacks\n",
        ")\n"
      ]
    },
    {
      "cell_type": "markdown",
      "metadata": {},
      "source": [
        "## 4. Model Evaluation\n"
      ]
    },
    {
      "cell_type": "code",
      "execution_count": null,
      "metadata": {},
      "outputs": [],
      "source": [
        "# Evaluate on test set\n",
        "test_results = model.evaluate(test_dataset)\n",
        "print(f\"Test Loss (MAE): {test_results[1]:.4f}\")\n",
        "print(f\"Test MSE: {test_results[2]:.4f}\")\n"
      ]
    },
    {
      "cell_type": "code",
      "execution_count": null,
      "metadata": {},
      "outputs": [],
      "source": [
        "# Function to calculate accuracy of selecting the best focus\n",
        "def calculate_top1_accuracy(model, test_df, base_path='Adsys_ software_assignment'):\n",
        "    # Group by stack\n",
        "    stack_groups = test_df.groupby('stack_name')\n",
        "    correct_predictions = 0\n",
        "    total_stacks = len(stack_groups)\n",
        "    \n",
        "    for stack_name, group in tqdm(stack_groups):\n",
        "        # Find the ground truth best focus (minimum absolute focus_score)\n",
        "        ground_truth_best = group.loc[group['focus_score'].abs().idxmin()]\n",
        "        \n",
        "        # Make predictions for all images in the stack\n",
        "        predictions = []\n",
        "        for _, row in group.iterrows():\n",
        "            img_path = os.path.join(base_path, row['image_path'].lstrip('./'))\n",
        "            img = preprocess_image(img_path)\n",
        "            img = np.expand_dims(img, axis=0)\n",
        "            pred = model.predict(img, verbose=0)[0][0]\n",
        "            predictions.append((row.name, pred))\n",
        "        \n",
        "        # Find the predicted best focus (prediction closest to 0)\n",
        "        predicted_best_idx, _ = min(predictions, key=lambda x: abs(x[1]))\n",
        "        predicted_best = test_df.loc[predicted_best_idx]\n",
        "        \n",
        "        # Check if the prediction matches ground truth\n",
        "        if predicted_best.name == ground_truth_best.name:\n",
        "            correct_predictions += 1\n",
        "    \n",
        "    return correct_predictions / total_stacks\n"
      ]
    },
    {
      "cell_type": "code",
      "execution_count": null,
      "metadata": {},
      "outputs": [],
      "source": [
        "# Calculate top-1 accuracy\n",
        "top1_accuracy = calculate_top1_accuracy(model, test_df)\n",
        "print(f\"Top-1 Accuracy: {top1_accuracy:.4f}\")\n"
      ]
    },
    {
      "cell_type": "code",
      "execution_count": null,
      "metadata": {},
      "outputs": [],
      "source": [
        "# Function to calculate correlation between predictions and ground truth\n",
        "def calculate_correlation(model, test_df, base_path='Adsys_ software_assignment'):\n",
        "    ground_truths = []\n",
        "    predictions = []\n",
        "    \n",
        "    for _, row in tqdm(test_df.iterrows(), total=len(test_df)):\n",
        "        img_path = os.path.join(base_path, row['image_path'].lstrip('./'))\n",
        "        img = preprocess_image(img_path)\n",
        "        img = np.expand_dims(img, axis=0)\n",
        "        pred = model.predict(img, verbose=0)[0][0]\n",
        "        \n",
        "        ground_truths.append(row['focus_score'])\n",
        "        predictions.append(pred)\n",
        "    \n",
        "    # Calculate Pearson correlation\n",
        "    correlation, _ = pearsonr(ground_truths, predictions)\n",
        "    \n",
        "    # Calculate MAE and MSE\n",
        "    mae = mean_absolute_error(ground_truths, predictions)\n",
        "    mse = mean_squared_error(ground_truths, predictions)\n",
        "    \n",
        "    return correlation, mae, mse\n"
      ]
    },
    {
      "cell_type": "code",
      "execution_count": null,
      "metadata": {},
      "outputs": [],
      "source": [
        "# Calculate correlation and error metrics\n",
        "correlation, mae, mse = calculate_correlation(model, test_df)\n",
        "print(f\"Pearson Correlation: {correlation:.4f}\")\n",
        "print(f\"Mean Absolute Error: {mae:.4f}\")\n",
        "print(f\"Mean Squared Error: {mse:.4f}\")\n"
      ]
    },
    {
      "cell_type": "markdown",
      "metadata": {},
      "source": [
        "## 5. TFLite Conversion\n"
      ]
    },
    {
      "cell_type": "code",
      "execution_count": null,
      "metadata": {},
      "outputs": [],
      "source": [
        "# Save the Keras model\n",
        "model.save('best_model.h5')\n"
      ]
    },
    {
      "cell_type": "code",
      "execution_count": null,
      "metadata": {},
      "outputs": [],
      "source": [
        "# Function to create a representative dataset for quantization\n",
        "def representative_dataset():\n",
        "    for x, _ in train_dataset.take(100):\n",
        "        yield [x[0:1].numpy()]\n",
        "\n",
        "# Convert to TFLite\n",
        "converter = tf.lite.TFLiteConverter.from_keras_model(model)\n",
        "tflite_model = converter.convert()\n",
        "\n",
        "# Save the TFLite model\n",
        "with open('focus_model.tflite', 'wb') as f:\n",
        "    f.write(tflite_model)\n"
      ]
    },
    {
      "cell_type": "code",
      "execution_count": null,
      "metadata": {},
      "outputs": [],
      "source": [
        "# Convert to TFLite with float16 quantization\n",
        "converter = tf.lite.TFLiteConverter.from_keras_model(model)\n",
        "converter.optimizations = [tf.lite.Optimize.DEFAULT]\n",
        "converter.target_spec.supported_types = [tf.float16]\n",
        "tflite_fp16_model = converter.convert()\n",
        "\n",
        "# Save the quantized TFLite model\n",
        "with open('focus_model_fp16.tflite', 'wb') as f:\n",
        "    f.write(tflite_fp16_model)\n",
        "\n",
        "print(f\"Original TFLite model size: {len(tflite_model) / 1024:.2f} KB\")\n",
        "print(f\"Quantized TFLite model size: {len(tflite_fp16_model) / 1024:.2f} KB\")\n"
      ]
    },
    {
      "cell_type": "markdown",
      "metadata": {},
      "source": [
        "## 6. Create Report\n"
      ]
    },
    {
      "cell_type": "code",
      "execution_count": null,
      "metadata": {},
      "outputs": [],
      "source": [
        "report = f\"\"\"# Focus Quality Assessment Model Report\n",
        "\n",
        "## Name\n",
        "[Your Name]\n",
        "\n",
        "## Performance Metrics\n",
        "- Test Mean Absolute Error (MAE): {mae:.4f}\n",
        "- Test Mean Squared Error (MSE): {mse:.4f}\n",
        "- Pearson Correlation: {correlation:.4f}\n",
        "- Top-1 Accuracy: {top1_accuracy:.4f}\n",
        "\n",
        "## Approach\n",
        "\n",
        "### Data Processing\n",
        "- Split data by stacks (not individual images) into train/val/test sets (70/15/15)\n",
        "- Resized images to 224x224 and normalized to [0,1]\n",
        "- Applied conservative data augmentation (flips, brightness, contrast)\n",
        "\n",
        "### Model Architecture\n",
        "- Base model: MobileNetV2 (pretrained on ImageNet)\n",
        "- Regression head: GlobalAveragePooling2D → Dense(128, ReLU) → Dense(1, Linear)\n",
        "- Two-phase training approach:\n",
        "  1. Train only the regression head\n",
        "  2. Fine-tune the last 30 layers of MobileNetV2 with lower learning rate\n",
        "\n",
        "### Training\n",
        "- Loss function: Mean Absolute Error (MAE)\n",
        "- Optimizer: Adam (initial learning rate: 1e-3, fine-tuning: 1e-4)\n",
        "- Early stopping and learning rate reduction on plateau\n",
        "- Batch size: 32\n",
        "\n",
        "### TFLite Conversion\n",
        "- Converted to TFLite format\n",
        "- Applied float16 quantization for reduced model size\n",
        "\n",
        "## Results\n",
        "\n",
        "The model successfully predicts focus quality scores with high correlation to ground truth values. The architecture is lightweight and performs efficiently when converted to TFLite format.\n",
        "\n",
        "![Training Curves](training_curves.png)\n",
        "\"\"\"\n",
        "\n",
        "with open('report.md', 'w') as f:\n",
        "    f.write(report)\n"
      ]
    },
    {
      "cell_type": "markdown",
      "metadata": {},
      "source": [
        "## 7. Package Deliverables\n"
      ]
    },
    {
      "cell_type": "code",
      "execution_count": null,
      "metadata": {},
      "outputs": [],
      "source": [
        "# Create a readme file\n",
        "readme = \"\"\"# Focus Quality Assessment Model\n",
        "\n",
        "This repository contains a TFLite model for assessing focus quality in microscope images.\n",
        "\n",
        "## Contents\n",
        "\n",
        "- `focus_model.tflite`: Converted TFLite model for inference\n",
        "- `focus_model_fp16.tflite`: Float16 quantized TFLite model (smaller size)\n",
        "- `best_model.h5`: Original Keras/TensorFlow model before conversion\n",
        "- `training_curves.png`: Plot of training and validation loss curves\n",
        "- `report.md`: Report describing the approach, metrics, and results\n",
        "- `focus_quality_assessment.ipynb`: Notebook showing the complete training process\n",
        "\n",
        "## How to Run Inference\n",
        "\n",
        "```python\n",
        "import numpy as np\n",
        "import tensorflow as tf\n",
        "import cv2\n",
        "\n",
        "# Load the TFLite model\n",
        "interpreter = tf.lite.Interpreter(model_path=\"focus_model.tflite\")\n",
        "interpreter.allocate_tensors()\n",
        "\n",
        "# Get input and output tensors\n",
        "input_details = interpreter.get_input_details()\n",
        "output_details = interpreter.get_output_details()\n",
        "\n",
        "# Prepare an image\n",
        "def preprocess_image(img_path, target_size=(224, 224)):\n",
        "    img = cv2.imread(img_path)\n",
        "    img = cv2.cvtColor(img, cv2.COLOR_BGR2RGB)\n",
        "    img = cv2.resize(img, target_size)\n",
        "    img = img.astype(np.float32) / 255.0\n",
        "    return img\n",
        "\n",
        "# Load and preprocess an image\n",
        "image = preprocess_image(\"path/to/your/image.jpg\")\n",
        "input_tensor = np.expand_dims(image, axis=0)\n",
        "\n",
        "# Run inference\n",
        "interpreter.set_tensor(input_details[0]['index'], input_tensor)\n",
        "interpreter.invoke()\n",
        "focus_score = interpreter.get_tensor(output_details[0]['index'])[0][0]\n",
        "\n",
        "print(f\"Predicted focus score: {focus_score}\")\n",
        "```\n",
        "\"\"\"\n",
        "\n",
        "with open('README.md', 'w') as f:\n",
        "    f.write(readme)\n"
      ]
    }
  ],
  "metadata": {
    "language_info": {
      "name": "python"
    }
  },
  "nbformat": 4,
  "nbformat_minor": 2
}
